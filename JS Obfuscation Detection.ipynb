{
 "cells": [
  {
   "cell_type": "markdown",
   "id": "7f979ed2-e88c-4e6b-900d-d9c39833d9fe",
   "metadata": {},
   "source": [
    "# Import Libraries"
   ]
  },
  {
   "cell_type": "code",
   "execution_count": null,
   "id": "1c8c1ab8-94c8-49f1-bc23-9543b318ffab",
   "metadata": {},
   "outputs": [],
   "source": [
    "import numpy as np\n",
    "import pandas as pd\n",
    "import matplotlib.pyplot as plt\n",
    "import seaborn as sns\n",
    "import os\n",
    "import time\n",
    "import pickle\n",
    "from sklearn.model_selection import train_test_split, cross_val_score\n",
    "from sklearn.preprocessing import LabelEncoder\n",
    "from sklearn.feature_extraction.text import HashingVectorizer, TfidfTransformer\n",
    "from sklearn.ensemble import RandomForestClassifier\n",
    "from sklearn.tree import DecisionTreeClassifier\n",
    "from sklearn.linear_model import LogisticRegression\n",
    "from xgboost import XGBClassifier\n",
    "from imblearn.over_sampling import RandomOverSampler\n",
    "from sklearn.metrics import accuracy_score, classification_report, confusion_matrix\n",
    "from sklearn.metrics import precision_recall_curve, recall_score, auc, roc_auc_score, roc_curve, precision_score, f1_score\n",
    "from mlxtend.plotting import plot_confusion_matrix\n",
    "from scikitplot.metrics import plot_cumulative_gain, plot_precision_recall, plot_roc_curve\n",
    "\n",
    "import warnings\n",
    "from sklearn.exceptions import ConvergenceWarning\n",
    "warnings.filterwarnings(\"ignore\", category=UserWarning)\n",
    "warnings.filterwarnings(\"ignore\", category=FutureWarning)\n",
    "warnings.filterwarnings(\"ignore\", category=ConvergenceWarning)"
   ]
  },
  {
   "cell_type": "markdown",
   "id": "cf24f7b8-597f-4c5e-b901-05a4e5d51b21",
   "metadata": {},
   "source": [
    "# Load Data"
   ]
  },
  {
   "cell_type": "code",
   "execution_count": null,
   "id": "c927a42e-6390-4756-b60e-89635de924f3",
   "metadata": {},
   "outputs": [],
   "source": [
    "data_dir = \"/mnt/hdd/Datasets/Obfuscated_JS/\""
   ]
  },
  {
   "cell_type": "code",
   "execution_count": null,
   "id": "4147ee69-cb16-4bd7-b49f-45cd527dd9d4",
   "metadata": {},
   "outputs": [],
   "source": [
    "folders = os.listdir(data_dir)\n",
    "folders"
   ]
  },
  {
   "cell_type": "code",
   "execution_count": null,
   "id": "5f23f763-15f8-4147-8728-2653dbd9badf",
   "metadata": {},
   "outputs": [],
   "source": [
    "data = []\n",
    "labels = []\n",
    "\n",
    "for folder in folders:\n",
    "    files = os.listdir(os.path.join(data_dir, folder))\n",
    "    for file in files:\n",
    "        file_path = os.path.join(data_dir, folder, file)\n",
    "        with open(file_path, \"r\") as f:\n",
    "            js = f.read().replace(\"\\n\", \"\")\n",
    "            js = str(js)\n",
    "            data.append(js)\n",
    "            labels.append(folder)"
   ]
  },
  {
   "cell_type": "code",
   "execution_count": null,
   "id": "9661a629-2f7d-49ca-abca-2965f4740692",
   "metadata": {},
   "outputs": [],
   "source": [
    "df = pd.DataFrame({\"js\": data, \"label\": labels})\n",
    "df.head()"
   ]
  },
  {
   "cell_type": "code",
   "execution_count": null,
   "id": "0c196441-5e26-4fe5-937b-d3cc958f7378",
   "metadata": {},
   "outputs": [],
   "source": [
    "df[\"label\"].value_counts().plot(kind=\"bar\")"
   ]
  },
  {
   "cell_type": "code",
   "execution_count": null,
   "id": "40f74863-4173-4bd2-8b0b-96e2d30cdf05",
   "metadata": {},
   "outputs": [],
   "source": [
    "df[\"label\"].value_counts().plot(kind=\"pie\", autopct=\"%.1f%%\", shadow=True, explode=[0, 0.1])"
   ]
  },
  {
   "cell_type": "markdown",
   "id": "15f2e08f-0e16-4eaa-a52a-beefd0d9a5ea",
   "metadata": {},
   "source": [
    "# Preprocess"
   ]
  },
  {
   "cell_type": "code",
   "execution_count": null,
   "id": "e860ecd2-0aaa-4563-a0c1-738de1fd3333",
   "metadata": {},
   "outputs": [],
   "source": [
    "def label_encoder(column):\n",
    "    le = LabelEncoder().fit(column)\n",
    "    print(column.name, le.classes_)\n",
    "    return le.transform(column)"
   ]
  },
  {
   "cell_type": "code",
   "execution_count": null,
   "id": "8da29f53-6424-4fae-89e4-c736cf45fc41",
   "metadata": {},
   "outputs": [],
   "source": [
    "df[\"label\"] = label_encoder(df[\"label\"])"
   ]
  },
  {
   "cell_type": "code",
   "execution_count": null,
   "id": "7fa8d8a1-8cd4-44ff-83c6-019418eaf156",
   "metadata": {},
   "outputs": [],
   "source": [
    "class_names = [\"not-obfuscated\", \"obfuscated\"]"
   ]
  },
  {
   "cell_type": "code",
   "execution_count": null,
   "id": "6b31ed6a-4ae1-4197-bbe3-a560424fe3db",
   "metadata": {},
   "outputs": [],
   "source": [
    "X = df[\"js\"]\n",
    "y = df[\"label\"]"
   ]
  },
  {
   "cell_type": "code",
   "execution_count": null,
   "id": "5fae6edb-16e9-4b57-b4ed-371e93f74ae1",
   "metadata": {},
   "outputs": [],
   "source": [
    "hv = HashingVectorizer(ngram_range=(1, 3))\n",
    "X_vect = hv.fit_transform(X)"
   ]
  },
  {
   "cell_type": "code",
   "execution_count": null,
   "id": "5a8c235c-0edb-4eb6-991c-20039f4b7b7e",
   "metadata": {},
   "outputs": [],
   "source": [
    "pickle.dump(hv, open(\"hashing.pkl\", \"wb\"))"
   ]
  },
  {
   "cell_type": "code",
   "execution_count": null,
   "id": "f78ae627-ff9d-4e46-b519-ff239b2438cd",
   "metadata": {},
   "outputs": [],
   "source": [
    "tfidf = TfidfTransformer()\n",
    "X_tfidf = tfidf.fit_transform(X_vect)"
   ]
  },
  {
   "cell_type": "code",
   "execution_count": null,
   "id": "ee6cf5aa-f746-4537-a6e0-fed0951ac999",
   "metadata": {},
   "outputs": [],
   "source": [
    "pickle.dump(tfidf, open(\"tfidf.pkl\", \"wb\"))"
   ]
  },
  {
   "cell_type": "markdown",
   "id": "0cf49a1e-2839-4583-ba82-a7672473f8b2",
   "metadata": {},
   "source": [
    "# Training"
   ]
  },
  {
   "cell_type": "code",
   "execution_count": null,
   "id": "c2185ddf-02ba-443e-9860-6a713e7447a4",
   "metadata": {},
   "outputs": [],
   "source": [
    "X_train, X_test, y_train, y_test = train_test_split(X_tfidf, y, test_size=0.2, random_state=42)"
   ]
  },
  {
   "cell_type": "code",
   "execution_count": null,
   "id": "75a09d49-f113-4806-be62-2c55e33ad79b",
   "metadata": {},
   "outputs": [],
   "source": [
    "print(\"X_train:\", X_train.shape)\n",
    "print(\"X_test:\", X_test.shape)\n",
    "print(\"y_train:\", y_train.shape)\n",
    "print(\"y_test:\", y_test.shape)"
   ]
  },
  {
   "cell_type": "markdown",
   "id": "8d46e0e2-1e1e-4d3d-b594-16adbbb6d0c0",
   "metadata": {},
   "source": [
    "# Logistic Regression"
   ]
  },
  {
   "cell_type": "code",
   "execution_count": null,
   "id": "564f2df2-cc1f-41a3-a791-e4ee1cb72939",
   "metadata": {},
   "outputs": [],
   "source": [
    "logreg = LogisticRegression()\n",
    "start = time.time()\n",
    "logreg.fit(X_train, y_train)\n",
    "end = time.time()\n",
    "logreg_time = end - start\n",
    "print(\"Logistic Regression Train Time:\", logreg_time)"
   ]
  },
  {
   "cell_type": "code",
   "execution_count": null,
   "id": "6e1a84f6-0986-40dd-b032-84ccbaaab9ac",
   "metadata": {},
   "outputs": [],
   "source": [
    "pickle.dump(logreg, open(\"logreg.pkl\", \"wb\"))"
   ]
  },
  {
   "cell_type": "code",
   "execution_count": null,
   "id": "91ec2b71-6da4-4681-b50e-a6a8cceeb494",
   "metadata": {},
   "outputs": [],
   "source": [
    "logreg_scores = cross_val_score(LogisticRegression(), X_train, y_train, cv=3)\n",
    "print(\"Logistic Regression Cross-Validation Scores:\", logreg_scores)"
   ]
  },
  {
   "cell_type": "code",
   "execution_count": null,
   "id": "589b3b96-923b-487f-9e49-fc832d370fb9",
   "metadata": {},
   "outputs": [],
   "source": [
    "logreg_pred_train = logreg.predict(X_train)\n",
    "logreg_pred_test = logreg.predict(X_test)\n",
    "\n",
    "logreg_train_score = accuracy_score(logreg_pred_train, y_train)\n",
    "logreg_test_score = accuracy_score(logreg_pred_test, y_test)\n",
    "print(\"Logistic Regression Train Score:\", logreg_train_score)\n",
    "print(\"Logistic Regression Test Score:\", logreg_test_score)"
   ]
  },
  {
   "cell_type": "code",
   "execution_count": null,
   "id": "a7509176-5baa-47b0-89ef-1e41fd7bba04",
   "metadata": {},
   "outputs": [],
   "source": [
    "logreg_precision_score = precision_score(y_test, logreg_pred_test)\n",
    "logreg_f1_score = f1_score(y_test, logreg_pred_test)\n",
    "logreg_recall_score = recall_score(y_test, logreg_pred_test)\n",
    "logreg_accuracy_score = accuracy_score(y_test, logreg_pred_test)\n",
    "\n",
    "print(\"Logistic Regression Precision Score:\", logreg_precision_score)\n",
    "print(\"Logistic Regression F1 Score:\", logreg_f1_score)\n",
    "print(\"Logistic Regression Recall Score:\", logreg_recall_score)\n",
    "print(\"Logistic Regression Accuracy Score:\", logreg_accuracy_score)"
   ]
  },
  {
   "cell_type": "code",
   "execution_count": null,
   "id": "f0139a9f-4eb2-4724-a0f0-ab3557f74a76",
   "metadata": {},
   "outputs": [],
   "source": [
    "print(classification_report(y_test, logreg_pred_test, target_names=class_names))"
   ]
  },
  {
   "cell_type": "code",
   "execution_count": null,
   "id": "ea8b293c-201f-41a6-82d4-12579bf09ca7",
   "metadata": {},
   "outputs": [],
   "source": [
    "logreg_cm = confusion_matrix(y_test, logreg_pred_test)\n",
    "fig, ax = plot_confusion_matrix(conf_mat=logreg_cm, show_absolute=True, show_normed=True, colorbar=True, class_names=class_names)\n",
    "plt.title(\"Logistic Regression Confusion Matrix\")\n",
    "plt.show()"
   ]
  },
  {
   "cell_type": "code",
   "execution_count": null,
   "id": "84389bd2-367a-46e5-bd5a-879d4a186edc",
   "metadata": {},
   "outputs": [],
   "source": [
    "logreg_test_proba = logreg.predict_proba(X_test)"
   ]
  },
  {
   "cell_type": "code",
   "execution_count": null,
   "id": "8b9dd811-c5d3-43b4-ad4a-555ceb9b7880",
   "metadata": {},
   "outputs": [],
   "source": [
    "plot_precision_recall(y_test, logreg_test_proba)\n",
    "plt.title(\"Logistic Regression Precision-Recall Curve\")\n",
    "plt.show()"
   ]
  },
  {
   "cell_type": "code",
   "execution_count": null,
   "id": "e04643b3-bf7c-4dd1-a4ff-97189fde068e",
   "metadata": {},
   "outputs": [],
   "source": [
    "plot_roc_curve(y_test, logreg_test_proba)\n",
    "plt.title(\"Logistic Regression ROC Curve\")\n",
    "plt.show()"
   ]
  },
  {
   "cell_type": "code",
   "execution_count": null,
   "id": "4b7687ef-3ac6-4070-8ff0-c61b573fec21",
   "metadata": {},
   "outputs": [],
   "source": [
    "plot_cumulative_gain(y_test, logreg_test_proba)\n",
    "plt.title(\"Logistic Regression Cumulative Gains\")\n",
    "plt.show()"
   ]
  },
  {
   "cell_type": "markdown",
   "id": "ec10c4f4-63d4-4811-95d7-f2569379b012",
   "metadata": {},
   "source": [
    "# Random Forest"
   ]
  },
  {
   "cell_type": "code",
   "execution_count": null,
   "id": "d4a19365-c7cd-415d-9433-1bc419b7a4be",
   "metadata": {},
   "outputs": [],
   "source": [
    "rf = RandomForestClassifier()\n",
    "start = time.time()\n",
    "rf.fit(X_train, y_train)\n",
    "end = time.time()\n",
    "rf_time = end - start\n",
    "print(\"Random Forest Train Time:\", rf_time)"
   ]
  },
  {
   "cell_type": "code",
   "execution_count": null,
   "id": "007f1583-87cb-4d73-9c50-5d90a91c7da3",
   "metadata": {},
   "outputs": [],
   "source": [
    "pickle.dump(rf, open(\"rf.pkl\", \"wb\"))"
   ]
  },
  {
   "cell_type": "code",
   "execution_count": null,
   "id": "dde1ea8c-f2fb-4c2b-aec0-587e86af618f",
   "metadata": {},
   "outputs": [],
   "source": [
    "rf_scores = cross_val_score(RandomForestClassifier(), X_train, y_train, cv=3)\n",
    "print(\"Random Forest Cross-Validation Scores:\", rf_scores)"
   ]
  },
  {
   "cell_type": "code",
   "execution_count": null,
   "id": "340e9b00-7f55-41cf-abe3-4125b0067d3c",
   "metadata": {},
   "outputs": [],
   "source": [
    "rf_pred_train = rf.predict(X_train)\n",
    "rf_pred_test = rf.predict(X_test)\n",
    "\n",
    "rf_train_score = accuracy_score(rf_pred_train, y_train)\n",
    "rf_test_score = accuracy_score(rf_pred_test, y_test)\n",
    "print(\"Random Forest Train Score:\", rf_train_score)\n",
    "print(\"Random Forest Test Score:\", rf_test_score)"
   ]
  },
  {
   "cell_type": "code",
   "execution_count": null,
   "id": "d32b0843-dbec-4da7-a665-45790dde5f73",
   "metadata": {},
   "outputs": [],
   "source": [
    "rf_precision_score = precision_score(y_test, rf_pred_test)\n",
    "rf_f1_score = f1_score(y_test, rf_pred_test)\n",
    "rf_recall_score = recall_score(y_test, rf_pred_test)\n",
    "rf_accuracy_score = accuracy_score(y_test, rf_pred_test)\n",
    "\n",
    "print(\"Random Forest Precision Score:\", rf_precision_score)\n",
    "print(\"Random Forest F1 Score:\", rf_f1_score)\n",
    "print(\"Random Forest Recall Score:\", rf_recall_score)\n",
    "print(\"Random Forest Accuracy Score:\", rf_accuracy_score)"
   ]
  },
  {
   "cell_type": "code",
   "execution_count": null,
   "id": "bdb8ac1d-2e24-4983-928e-d4437e3df175",
   "metadata": {},
   "outputs": [],
   "source": [
    "print(classification_report(y_test, rf_pred_test, target_names=class_names))"
   ]
  },
  {
   "cell_type": "code",
   "execution_count": null,
   "id": "ebe15eb9-5900-49a6-b430-9e3072b36ac1",
   "metadata": {},
   "outputs": [],
   "source": [
    "rf_cm = confusion_matrix(y_test, rf_pred_test)\n",
    "fig, ax = plot_confusion_matrix(conf_mat=rf_cm, show_absolute=True, show_normed=True, colorbar=True, class_names=class_names)\n",
    "plt.title(\"Random Forest Confusion Matrix\")\n",
    "plt.show()"
   ]
  },
  {
   "cell_type": "code",
   "execution_count": null,
   "id": "f1a2be8d-2664-42a8-9fe6-397861b9ae55",
   "metadata": {},
   "outputs": [],
   "source": [
    "rf_test_proba = rf.predict_proba(X_test)"
   ]
  },
  {
   "cell_type": "code",
   "execution_count": null,
   "id": "fa2f4f8a-b541-4fd7-b6ab-71134c7844da",
   "metadata": {},
   "outputs": [],
   "source": [
    "plot_precision_recall(y_test, rf_test_proba)\n",
    "plt.title(\"Random Forest Precision-Recall Curve\")\n",
    "plt.show()"
   ]
  },
  {
   "cell_type": "code",
   "execution_count": null,
   "id": "3c6c198e-b6ef-4a41-9927-a45c52c5c789",
   "metadata": {},
   "outputs": [],
   "source": [
    "plot_roc_curve(y_test, rf_test_proba)\n",
    "plt.title(\"Random Forest ROC Curve\")\n",
    "plt.show()"
   ]
  },
  {
   "cell_type": "code",
   "execution_count": null,
   "id": "a21b7e36-27f6-4809-b536-17b9f0072ad4",
   "metadata": {},
   "outputs": [],
   "source": [
    "plot_cumulative_gain(y_test, rf_test_proba)\n",
    "plt.title(\"Random Forest Cumulative Gains\")\n",
    "plt.show()"
   ]
  },
  {
   "cell_type": "markdown",
   "id": "e3b22de1-5329-40d1-bfa2-14f89d0fa0d5",
   "metadata": {},
   "source": [
    "# Decision Tree"
   ]
  },
  {
   "cell_type": "code",
   "execution_count": null,
   "id": "a5c62f70-152b-4145-be2a-6d35d6280348",
   "metadata": {},
   "outputs": [],
   "source": [
    "dt = DecisionTreeClassifier()\n",
    "start = time.time()\n",
    "dt.fit(X_train, y_train)\n",
    "end = time.time()\n",
    "dt_time = end - start\n",
    "print(\"Decision Tree Train Time:\", dt_time)"
   ]
  },
  {
   "cell_type": "code",
   "execution_count": null,
   "id": "8f8d932d-c65d-4145-8ee7-f555d1b2fcaa",
   "metadata": {},
   "outputs": [],
   "source": [
    "pickle.dump(dt, open(\"dt.pkl\", \"wb\"))"
   ]
  },
  {
   "cell_type": "code",
   "execution_count": null,
   "id": "176df949-acee-4804-92ed-9c9f42786b9c",
   "metadata": {},
   "outputs": [],
   "source": [
    "dt_scores = cross_val_score(DecisionTreeClassifier(), X_train, y_train, cv=3)\n",
    "print(\"Decision Tree Cross-Validation Scores:\", dt_scores)"
   ]
  },
  {
   "cell_type": "code",
   "execution_count": null,
   "id": "77b261a8-fa2c-4992-b7cd-0e8b1837f3a7",
   "metadata": {},
   "outputs": [],
   "source": [
    "dt_pred_train = dt.predict(X_train)\n",
    "dt_pred_test = dt.predict(X_test)\n",
    "\n",
    "dt_train_score = accuracy_score(dt_pred_train, y_train)\n",
    "dt_test_score = accuracy_score(dt_pred_test, y_test)\n",
    "print(\"Decision Tree Train Score:\", dt_train_score)\n",
    "print(\"Decision Tree Test Score:\", dt_test_score)"
   ]
  },
  {
   "cell_type": "code",
   "execution_count": null,
   "id": "f0fed692-c661-4e96-8abd-cd98f11de098",
   "metadata": {},
   "outputs": [],
   "source": [
    "dt_precision_score = precision_score(y_test, dt_pred_test)\n",
    "dt_f1_score = f1_score(y_test, dt_pred_test)\n",
    "dt_recall_score = recall_score(y_test, dt_pred_test)\n",
    "dt_accuracy_score = accuracy_score(y_test, dt_pred_test)\n",
    "\n",
    "print(\"Decision Tree Precision Score:\", dt_precision_score)\n",
    "print(\"Decision Tree F1 Score:\", dt_f1_score)\n",
    "print(\"Decision Tree Recall Score:\", dt_recall_score)\n",
    "print(\"Decision Tree Accuracy Score:\", dt_accuracy_score)"
   ]
  },
  {
   "cell_type": "code",
   "execution_count": null,
   "id": "5c52a5f8-be91-4faa-bd5d-3339ed6e0fbb",
   "metadata": {},
   "outputs": [],
   "source": [
    "print(classification_report(y_test, dt_pred_test, target_names=class_names))"
   ]
  },
  {
   "cell_type": "code",
   "execution_count": null,
   "id": "c8766f82-ade6-412b-8bf5-560f2be35429",
   "metadata": {},
   "outputs": [],
   "source": [
    "dt_cm = confusion_matrix(y_test, dt_pred_test)\n",
    "fig, ax = plot_confusion_matrix(conf_mat=dt_cm, show_absolute=True, show_normed=True, colorbar=True, class_names=class_names)\n",
    "plt.title(\"Decision Tree Confusion Matrix\")\n",
    "plt.show()"
   ]
  },
  {
   "cell_type": "code",
   "execution_count": null,
   "id": "cb20e9e0-c80a-4b80-965f-e8a7789bdce0",
   "metadata": {},
   "outputs": [],
   "source": [
    "dt_test_proba = dt.predict_proba(X_test)"
   ]
  },
  {
   "cell_type": "code",
   "execution_count": null,
   "id": "71de6cd1-af29-4cbd-a0a3-e77facf2e02b",
   "metadata": {},
   "outputs": [],
   "source": [
    "plot_precision_recall(y_test, dt_test_proba)\n",
    "plt.title(\"Decision Tree Precision-Recall Curve\")\n",
    "plt.show()"
   ]
  },
  {
   "cell_type": "code",
   "execution_count": null,
   "id": "b12f4c3a-7af4-4d91-a8fc-cee049d1e1eb",
   "metadata": {},
   "outputs": [],
   "source": [
    "plot_roc_curve(y_test, dt_test_proba)\n",
    "plt.title(\"Decision Tree ROC Curve\")\n",
    "plt.show()"
   ]
  },
  {
   "cell_type": "code",
   "execution_count": null,
   "id": "45ed1f19-3352-475a-99d7-e065f99b5973",
   "metadata": {},
   "outputs": [],
   "source": [
    "plot_cumulative_gain(y_test, dt_test_proba)\n",
    "plt.title(\"Decision Tree Cumulative Gains\")\n",
    "plt.show()"
   ]
  },
  {
   "cell_type": "markdown",
   "id": "f9daadd1-4977-4b67-8b8d-50746431d185",
   "metadata": {},
   "source": [
    "# XGB"
   ]
  },
  {
   "cell_type": "code",
   "execution_count": null,
   "id": "90fb6a1b-4db4-4157-8688-e2e6849247a6",
   "metadata": {},
   "outputs": [],
   "source": [
    "xgb = XGBClassifier()\n",
    "start = time.time()\n",
    "xgb.fit(X_train, y_train)\n",
    "end = time.time()\n",
    "xgb_time = end - start\n",
    "print(\"XGBClassifier Train Time:\", xgb_time)"
   ]
  },
  {
   "cell_type": "code",
   "execution_count": null,
   "id": "399ee755-928d-443d-b9b2-832ea847308e",
   "metadata": {},
   "outputs": [],
   "source": [
    "pickle.dump(xgb, open(\"xgb.pkl\", \"wb\"))"
   ]
  },
  {
   "cell_type": "code",
   "execution_count": null,
   "id": "b533e119-a02d-4503-9dc6-5b1adecb320a",
   "metadata": {},
   "outputs": [],
   "source": [
    "xgb_scores = cross_val_score(XGBClassifier(), X_train, y_train, cv=3)\n",
    "print(\"XGBClassifier Cross-Validation Scores:\", xgb_scores)"
   ]
  },
  {
   "cell_type": "code",
   "execution_count": null,
   "id": "eb0d6f03-6faa-4f6f-aced-82c892aaaf8f",
   "metadata": {},
   "outputs": [],
   "source": [
    "xgb_pred_train = xgb.predict(X_train)\n",
    "xgb_pred_test = xgb.predict(X_test)\n",
    "\n",
    "xgb_train_score = accuracy_score(xgb_pred_train, y_train)\n",
    "xgb_test_score = accuracy_score(xgb_pred_test, y_test)\n",
    "print(\"XGBClassifier Train Score:\", xgb_train_score)\n",
    "print(\"XGBClassifier Test Score:\", xgb_test_score)"
   ]
  },
  {
   "cell_type": "code",
   "execution_count": null,
   "id": "f0e6e1dd-3431-4e7a-942e-137ace0f86f5",
   "metadata": {},
   "outputs": [],
   "source": [
    "xgb_precision_score = precision_score(y_test, xgb_pred_test)\n",
    "xgb_f1_score = f1_score(y_test, xgb_pred_test)\n",
    "xgb_recall_score = recall_score(y_test, xgb_pred_test)\n",
    "xgb_accuracy_score = accuracy_score(y_test, xgb_pred_test)\n",
    "\n",
    "print(\"XGBClassifier Precision Score:\", xgb_precision_score)\n",
    "print(\"XGBClassifier F1 Score:\", xgb_f1_score)\n",
    "print(\"XGBClassifier Recall Score:\", xgb_recall_score)\n",
    "print(\"XGBClassifier Accuracy Score:\", xgb_accuracy_score)"
   ]
  },
  {
   "cell_type": "code",
   "execution_count": null,
   "id": "9bbf38eb-091f-485e-a808-8eb39f59adcb",
   "metadata": {},
   "outputs": [],
   "source": [
    "print(classification_report(y_test, xgb_pred_test, target_names=class_names))"
   ]
  },
  {
   "cell_type": "code",
   "execution_count": null,
   "id": "78c2a5df-aaa5-44ea-9b9b-162e2e357746",
   "metadata": {},
   "outputs": [],
   "source": [
    "xgb_cm = confusion_matrix(y_test, xgb_pred_test)\n",
    "fig, ax = plot_confusion_matrix(conf_mat=xgb_cm, show_absolute=True, show_normed=True, colorbar=True, class_names=class_names)\n",
    "plt.title(\"XGB Confusion Matrix\")\n",
    "plt.show()"
   ]
  },
  {
   "cell_type": "code",
   "execution_count": null,
   "id": "6c11f184-9099-42fe-8dd4-d76600b0a8a2",
   "metadata": {},
   "outputs": [],
   "source": [
    "xgb_test_proba = xgb.predict_proba(X_test)"
   ]
  },
  {
   "cell_type": "code",
   "execution_count": null,
   "id": "4c2f27bd-8ec6-4b0e-8239-429c90ec428e",
   "metadata": {},
   "outputs": [],
   "source": [
    "plot_precision_recall(y_test, xgb_test_proba)\n",
    "plt.title(\"XGB Precision-Recall Curve\")\n",
    "plt.show()"
   ]
  },
  {
   "cell_type": "code",
   "execution_count": null,
   "id": "b31d1fcc-7c82-4923-9de9-668f6e50b26f",
   "metadata": {},
   "outputs": [],
   "source": [
    "plot_roc_curve(y_test, xgb_test_proba)\n",
    "plt.title(\"XGB ROC Curve\")\n",
    "plt.show()"
   ]
  },
  {
   "cell_type": "code",
   "execution_count": null,
   "id": "c7d173ac-2955-4bc2-81e2-86d53b6a383c",
   "metadata": {},
   "outputs": [],
   "source": [
    "plot_cumulative_gain(y_test, xgb_test_proba)\n",
    "plt.title(\"XGB Cumulative Gains\")\n",
    "plt.show()"
   ]
  },
  {
   "cell_type": "code",
   "execution_count": null,
   "id": "e351e0ed-fe73-4cad-8a19-20fd16391e20",
   "metadata": {},
   "outputs": [],
   "source": [
    "labels = [\"LR\", \"DT\", \"RF\", \"XGB\"]\n",
    "scores = [logreg_test_score, dt_test_score, rf_test_score, xgb_test_score]"
   ]
  },
  {
   "cell_type": "code",
   "execution_count": null,
   "id": "fa33b0ab-0564-4db0-b527-c6a25eec6f56",
   "metadata": {},
   "outputs": [],
   "source": [
    "def plot_model_plot(labels, scores):\n",
    "    plt.figure()\n",
    "    ax = sns.barplot(x=labels, y=scores)\n",
    "    ax.set_title(\"Trained Models Accuracy\")\n",
    "    for container in ax.containers:\n",
    "        ax.bar_label(container)"
   ]
  },
  {
   "cell_type": "code",
   "execution_count": null,
   "id": "52d521c7-1d1f-45ee-93d2-64f62c8cbe16",
   "metadata": {},
   "outputs": [],
   "source": [
    "plot_model_plot(labels, scores)\n",
    "plt.show()"
   ]
  },
  {
   "cell_type": "markdown",
   "id": "09ae234e-a95a-485f-bb17-a6a410f06019",
   "metadata": {},
   "source": [
    "# Test"
   ]
  },
  {
   "cell_type": "code",
   "execution_count": null,
   "id": "c300569a-b66d-4ef3-a621-4d04104662cb",
   "metadata": {},
   "outputs": [],
   "source": [
    "normal_js = \"\"\"document.addEventListener('DOMContentLoaded', function () { var checkButton = document.getElementById('checkButton');var contentInput = document.getElementById('content');var resultElement = document.getElementById('result');checkButton.addEventListener('click', function () {var content = contentInput.value;var data = { content: content }; fetch('http://localhost:5000/check-spam', {method: 'POST',headers: {'Content-Type': 'application/json'},body: JSON.stringify(data)}).then(response => response.json()).then(result => {if (result.spam) {resultElement.textContent = 'SPAM';} else {resultElement.textContent = 'NOT SPAM';}}).catch(error => {console.error('Error:', error);});});});\"\"\""
   ]
  },
  {
   "cell_type": "code",
   "execution_count": null,
   "id": "fddb949e-2d97-4278-8095-8b3890637c7c",
   "metadata": {},
   "outputs": [],
   "source": [
    "obfuscated_js = \"\"\"var _0x2e798d=_0x6bac;function _0x6bac(_0x545aba,_0x4f5617){var _0x4af7cb=_0x4af7();return _0x6bac=function(_0x6bacb7,_0x2583a0){_0x6bacb7=_0x6bacb7-0x14d;var _0x5e6e39=_0x4af7cb[_0x6bacb7];return _0x5e6e39;},_0x6bac(_0x545aba,_0x4f5617);}function _0x4af7(){var _0x520823=['30524263MYtvJR','getElementById','content','1824sXZsMa','value','addEventListener','4817704xcwRmz','1714ruszmI','SPAM','DOMContentLoaded','then','1706079MjbDTe','NOT\\x20SPAM','http://localhost:5000/check-spam','click','2464976OdVnyn','4008njBbAn','json','error','result','Error:','textContent','spam','74997dCjyST','380jLuyKF','stringify','POST','540qXTwmX','14YmYPED'];_0x4af7=function(){return _0x520823;};return _0x4af7();}(function(_0x187d2c,_0x497914){var _0x237a90=_0x6bac,_0x6fe22e=_0x187d2c();while(!![]){try{var _0x3c0b49=parseInt(_0x237a90(0x14d))/0x1*(parseInt(_0x237a90(0x151))/0x2)+parseInt(_0x237a90(0x155))/0x3+parseInt(_0x237a90(0x159))/0x4+-parseInt(_0x237a90(0x165))/0x5*(parseInt(_0x237a90(0x15a))/0x6)+-parseInt(_0x237a90(0x166))/0x7*(-parseInt(_0x237a90(0x150))/0x8)+-parseInt(_0x237a90(0x161))/0x9*(parseInt(_0x237a90(0x162))/0xa)+-parseInt(_0x237a90(0x167))/0xb;if(_0x3c0b49===_0x497914)break;else _0x6fe22e['push'](_0x6fe22e['shift']());}catch(_0x22766b){_0x6fe22e['push'](_0x6fe22e['shift']());}}}(_0x4af7,0xc0940),document['addEventListener'](_0x2e798d(0x153),function(){var _0xca7897=_0x2e798d,_0x1dfe1b=document[_0xca7897(0x168)]('checkButton'),_0x4fb26b=document[_0xca7897(0x168)](_0xca7897(0x169)),_0x8440fe=document[_0xca7897(0x168)](_0xca7897(0x15d));_0x1dfe1b[_0xca7897(0x14f)](_0xca7897(0x158),function(){var _0x419232=_0xca7897,_0x3325dc=_0x4fb26b[_0x419232(0x14e)],_0x7f54fc={'content':_0x3325dc};fetch(_0x419232(0x157),{'method':_0x419232(0x164),'headers':{'Content-Type':'application/json'},'body':JSON[_0x419232(0x163)](_0x7f54fc)})[_0x419232(0x154)](_0x12d223=>_0x12d223[_0x419232(0x15b)]())[_0x419232(0x154)](_0x29e918=>{var _0x707f05=_0x419232;_0x29e918[_0x707f05(0x160)]?_0x8440fe[_0x707f05(0x15f)]=_0x707f05(0x152):_0x8440fe[_0x707f05(0x15f)]=_0x707f05(0x156);})['catch'](_0x5d1f8d=>{var _0xc8b180=_0x419232;console[_0xc8b180(0x15c)](_0xc8b180(0x15e),_0x5d1f8d);});});}));\"\"\""
   ]
  },
  {
   "cell_type": "code",
   "execution_count": null,
   "id": "ecec6aaf-de4b-437c-9a8b-61399470da36",
   "metadata": {},
   "outputs": [],
   "source": [
    "test_normal = hv.transform([normal_js])\n",
    "test_normal = tfidf.transform(test_normal)\n",
    "result_array = xgb.predict(test_normal)\n",
    "print(\"Result: \", class_names[result_array[0]])"
   ]
  },
  {
   "cell_type": "code",
   "execution_count": null,
   "id": "c5413a28-61b3-4414-9aef-9d5491a5e528",
   "metadata": {},
   "outputs": [],
   "source": [
    "test_obfuscated = hv.transform([obfuscated_js])\n",
    "test_obfuscated = tfidf.transform(test_obfuscated)\n",
    "result_array = xgb.predict(test_obfuscated)\n",
    "print(\"Result: \", class_names[result_array[0]])"
   ]
  },
  {
   "cell_type": "code",
   "execution_count": null,
   "id": "e7139e52-3579-4091-ae1e-ca4df0cc03c2",
   "metadata": {},
   "outputs": [],
   "source": []
  }
 ],
 "metadata": {
  "kernelspec": {
   "display_name": "Python 3 (ipykernel)",
   "language": "python",
   "name": "python3"
  },
  "language_info": {
   "codemirror_mode": {
    "name": "ipython",
    "version": 3
   },
   "file_extension": ".py",
   "mimetype": "text/x-python",
   "name": "python",
   "nbconvert_exporter": "python",
   "pygments_lexer": "ipython3",
   "version": "3.10.12"
  }
 },
 "nbformat": 4,
 "nbformat_minor": 5
}
